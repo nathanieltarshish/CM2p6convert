{
 "cells": [
  {
   "cell_type": "code",
   "execution_count": 1,
   "metadata": {
    "collapsed": true
   },
   "outputs": [],
   "source": [
    "import numpy as np\n",
    "import sys\n",
    "import os\n",
    "import netCDF4 as nc\n",
    "import bisect\n",
    "import argparse\n",
    "import math\n",
    "import xarray as xr"
   ]
  },
  {
   "cell_type": "code",
   "execution_count": 2,
   "metadata": {
    "collapsed": true
   },
   "outputs": [],
   "source": [
    "def write_field(fname, data):\n",
    "    \"\"\"writes out data to a .bin file, based on MITgcm verification tests\"\"\"\n",
    "    print 'wrote to file: '+fname\n",
    "    if sys.byteorder == 'little':\n",
    "        data.byteswap(True)\n",
    "    fid = open(fname, \"wb\")\n",
    "    data.tofile(fid)\n",
    "    fid.close()"
   ]
  },
  {
   "cell_type": "code",
   "execution_count": 6,
   "metadata": {
    "collapsed": true
   },
   "outputs": [],
   "source": [
    "input_path = '/archive/net/CM2.6/regrid_annual/regrid_depth_/202_depth_vel_C_gridded.nc'"
   ]
  },
  {
   "cell_type": "code",
   "execution_count": 21,
   "metadata": {
    "collapsed": false,
    "scrolled": false
   },
   "outputs": [],
   "source": [
    "vel_year = xr.open_dataset(input_path, decode_times=False)\n",
    "out_dir = '/nbhome/net/test_output/'\n",
    "if not os.path.exists(out_dir):\n",
    "    os.makedirs(out_dir)\n",
    "    print \"Umbrella Output Directory:\", out_dir"
   ]
  },
  {
   "cell_type": "code",
   "execution_count": 9,
   "metadata": {
    "collapsed": false
   },
   "outputs": [],
   "source": [
    "assert vel_year.u.isel(time=0).dims == ('st_ocean', 'yu_c', 'xu_c') #check depth x lat x lon indexing\n",
    "assert vel_year.v.isel(time=0).dims == ('st_ocean', 'yv_c', 'xv_c') #check depth x lat x lon indexing"
   ]
  },
  {
   "cell_type": "code",
   "execution_count": 26,
   "metadata": {
    "collapsed": false
   },
   "outputs": [
    {
     "name": "stdout",
     "output_type": "stream",
     "text": [
      "/nbhome/net/test_output/depth_5/\n",
      "/nbhome/net/test_output/depth_55/\n",
      "/nbhome/net/test_output/depth_110/\n",
      "/nbhome/net/test_output/depth_181/\n",
      "/nbhome/net/test_output/depth_330/\n",
      "/nbhome/net/test_output/depth_446/\n",
      "/nbhome/net/test_output/depth_728/\n"
     ]
    }
   ],
   "source": [
    "depth_counter = 0 \n",
    "for depth in vel_year.st_ocean.values.astype(int):\n",
    "    \n",
    "    out_sub_dir = out_dir+'depth_'+str(depth)+'/'\n",
    "    \n",
    "    if not os.path.exists(out_sub_dir):\n",
    "        os.makedirs(out_sub_dir)\n",
    "        \n",
    "    print \"On Depth Directory:\", out_sub_dir\n",
    "    \n",
    "    day_counter = 0 \n",
    "    for day in np.arange(0, 5*len(vel_year.time), 5):\n",
    "        \n",
    "        out_filename_u = out_sub_dir+'U.'+str(day).zfill(10)+'.data'\n",
    "        out_filename_v = out_sub_dir+'V.'+str(day).zfill(10)+'.data'\n",
    "        \n",
    "        u_data = vel_year.u.isel(time=day_counter, depth=depth_counter).values.astype(np.float32)\n",
    "        v_data = vel_year.v.isel(time=day_counter, depth=depth_counter).values.astype(np.float32)\n",
    "        \n",
    "        write_field(out_filename_u, u_data)\n",
    "        write_field(out_filename_v, v_data) \n",
    "        \n",
    "        day_counter +=1 \n",
    "        \n",
    "    depth_counter += 1 "
   ]
  }
 ],
 "metadata": {
  "anaconda-cloud": {},
  "kernelspec": {
   "display_name": "Python [conda root]",
   "language": "python",
   "name": "conda-root-py"
  },
  "language_info": {
   "codemirror_mode": {
    "name": "ipython",
    "version": 2
   },
   "file_extension": ".py",
   "mimetype": "text/x-python",
   "name": "python",
   "nbconvert_exporter": "python",
   "pygments_lexer": "ipython2",
   "version": "2.7.12"
  }
 },
 "nbformat": 4,
 "nbformat_minor": 1
}
