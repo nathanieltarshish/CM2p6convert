{
 "cells": [
  {
   "cell_type": "code",
   "execution_count": 2,
   "metadata": {
    "collapsed": true
   },
   "outputs": [],
   "source": [
    "import numpy as np\n",
    "import sys\n",
    "import os\n",
    "import netCDF4 as nc\n",
    "import bisect\n",
    "import argparse\n",
    "import math\n",
    "import xarray as xr"
   ]
  },
  {
   "cell_type": "code",
   "execution_count": 3,
   "metadata": {
    "collapsed": true
   },
   "outputs": [],
   "source": [
    "def write_field(fname, data):\n",
    "    \"\"\"writes out data to a .bin file, based on MITgcm verification tests\"\"\"\n",
    "    print 'wrote to file: '+fname\n",
    "    if sys.byteorder == 'little':\n",
    "        data.byteswap(True)\n",
    "    fid = open(fname, \"wb\")\n",
    "    data.tofile(fid)\n",
    "    fid.close()"
   ]
  },
  {
   "cell_type": "code",
   "execution_count": 4,
   "metadata": {
    "collapsed": true
   },
   "outputs": [],
   "source": [
    "input_path = '/archive/net/CM2.6/regrid_annual/regrid_202/532545_surf_vel_C_gridded.nc'"
   ]
  },
  {
   "cell_type": "code",
   "execution_count": 9,
   "metadata": {
    "collapsed": false,
    "scrolled": false
   },
   "outputs": [
    {
     "name": "stdout",
     "output_type": "stream",
     "text": [
      "\n"
     ]
    }
   ],
   "source": [
    "# parser = argparse.ArgumentParser(\n",
    "#         description='convert folder of daily surface C grid velocites to folder of .data  ')\n",
    "\n",
    "# parser.add_argument('--input', metavar='input', \n",
    "#                     help='the input annual C grid file ')\n",
    "\n",
    "# parser.add_argument('--out', type=str, metavar='out', \n",
    "#                     help='the output folder of .data of files')\n",
    "\n",
    "# args = parser.parse_args()\n",
    "\n",
    "vel_year = xr.open_dataset(input_path)\n",
    "out_dir = '/home/net/test_output/'\n",
    "if not os.path.exists(out_dir):\n",
    "    os.makedirs(out_dir)\n",
    "    print \"Output Directory:\", out_dir"
   ]
  },
  {
   "cell_type": "code",
   "execution_count": 21,
   "metadata": {
    "collapsed": false
   },
   "outputs": [
    {
     "name": "stdout",
     "output_type": "stream",
     "text": [
      "wrote to file: /home/net/test_output/U.0000000000.data\n",
      "wrote to file: /home/net/test_output/V.0000000000.data\n"
     ]
    }
   ],
   "source": [
    "assert vel_year.usurf.isel(time=0).dims == ('yu_c', 'xu_c') #check lat x lon indexing\n",
    "assert vel_year.vsurf.isel(time=0).dims == ('yv_c', 'xv_c') #check lat x lon indexing\n",
    "\n",
    "for i in range(len(vel_year.time) - 364):\n",
    "    out_filename_u = out_dir+'U.'+str(i).zfill(10)+'.data'\n",
    "    out_filename_v = out_dir+'V.'+str(i).zfill(10)+'.data'\n",
    "    u_data = vel_year.usurf.isel(time=i).values.astype(np.float32)\n",
    "    v_data = vel_year.vsurf.isel(time=i).values.astype(np.float32)\n",
    "    write_field(out_filename_u, u_data)\n",
    "    write_field(out_filename_v, v_data) "
   ]
  },
  {
   "cell_type": "code",
   "execution_count": 27,
   "metadata": {
    "collapsed": false
   },
   "outputs": [
    {
     "name": "stdout",
     "output_type": "stream",
     "text": [
      "\n"
     ]
    }
   ],
   "source": [
    "new_U = np.fromfile('/home/net/test_output/U.0000000000.data', dtype=np.float32).byteswap(True)\n",
    "old_U = np.fromfile('/archive/net/CM2.6/regrid/regrid_2020_ro/U.0000000000.data', dtype=np.float32).byteswap(True)"
   ]
  },
  {
   "cell_type": "code",
   "execution_count": 32,
   "metadata": {
    "collapsed": false
   },
   "outputs": [],
   "source": [
    "new_V = np.fromfile('/home/net/test_output/V.0000000000.data', dtype=np.float32).byteswap(True)\n",
    "old_V = np.fromfile('/archive/net/CM2.6/regrid/regrid_2020_ro/V.0000000000.data', dtype=np.float32).byteswap(True)"
   ]
  },
  {
   "cell_type": "code",
   "execution_count": 33,
   "metadata": {
    "collapsed": false
   },
   "outputs": [],
   "source": [
    "assert len(old_U) == len(new_U)\n",
    "assert len(old_V) == len(new_V)"
   ]
  },
  {
   "cell_type": "code",
   "execution_count": 34,
   "metadata": {
    "collapsed": false,
    "scrolled": false
   },
   "outputs": [
    {
     "name": "stdout",
     "output_type": "stream",
     "text": [
      "---------START------------\n",
      "INDEX =  2721250\n",
      "OLD U  0.0829188\n",
      "NEW U 0.0828184\n",
      "False\n",
      "True\n",
      "OLD V  0.0870087\n",
      "NEW V 0.0870087\n",
      "--------END---------------\n",
      "---------START------------\n",
      "INDEX =  5467658\n",
      "OLD U  0.0\n",
      "NEW U 0.0\n",
      "True\n",
      "True\n",
      "OLD V  0.0\n",
      "NEW V 0.0\n",
      "--------END---------------\n",
      "---------START------------\n",
      "INDEX =  1321583\n",
      "OLD U  0.00817108\n",
      "NEW U 0.00817108\n",
      "True\n",
      "True\n",
      "OLD V  0.022072\n",
      "NEW V 0.022072\n",
      "--------END---------------\n",
      "---------START------------\n",
      "INDEX =  6761948\n",
      "OLD U  0.0327158\n",
      "NEW U 0.0327617\n",
      "False\n",
      "True\n",
      "OLD V  0.178221\n",
      "NEW V 0.178221\n",
      "--------END---------------\n",
      "---------START------------\n",
      "INDEX =  4280134\n",
      "OLD U  0.0257231\n",
      "NEW U 0.0257187\n",
      "False\n",
      "True\n",
      "OLD V  0.236298\n",
      "NEW V 0.236298\n",
      "--------END---------------\n",
      "---------START------------\n",
      "INDEX =  1229925\n",
      "OLD U  0.0267051\n",
      "NEW U 0.0267051\n",
      "True\n",
      "True\n",
      "OLD V  -0.00829884\n",
      "NEW V -0.00829884\n",
      "--------END---------------\n",
      "---------START------------\n",
      "INDEX =  3994171\n",
      "OLD U  -0.133305\n",
      "NEW U -0.133251\n",
      "False\n",
      "True\n",
      "OLD V  -0.122238\n",
      "NEW V -0.122238\n",
      "--------END---------------\n",
      "---------START------------\n",
      "INDEX =  3784726\n",
      "OLD U  -0.262634\n",
      "NEW U -0.262485\n",
      "False\n",
      "True\n",
      "OLD V  -0.106294\n",
      "NEW V -0.106294\n",
      "--------END---------------\n",
      "---------START------------\n",
      "INDEX =  6048844\n",
      "OLD U  0.106434\n",
      "NEW U 0.106553\n",
      "False\n",
      "True\n",
      "OLD V  0.0116911\n",
      "NEW V 0.0116911\n",
      "--------END---------------\n",
      "---------START------------\n",
      "INDEX =  5514370\n",
      "OLD U  0.0\n",
      "NEW U 0.0\n",
      "True\n",
      "True\n",
      "OLD V  0.0\n",
      "NEW V 0.0\n",
      "--------END---------------\n",
      "---------START------------\n",
      "INDEX =  7048477\n",
      "OLD U  0.0\n",
      "NEW U 0.0\n",
      "True\n",
      "True\n",
      "OLD V  0.0\n",
      "NEW V 0.0\n",
      "--------END---------------\n",
      "---------START------------\n",
      "INDEX =  2229752\n",
      "OLD U  0.160449\n",
      "NEW U 0.160226\n",
      "False\n",
      "True\n",
      "OLD V  0.0934066\n",
      "NEW V 0.0934066\n",
      "--------END---------------\n",
      "---------START------------\n",
      "INDEX =  3456739\n",
      "OLD U  0.174077\n",
      "NEW U 0.173937\n",
      "False\n",
      "True\n",
      "OLD V  -0.85173\n",
      "NEW V -0.85173\n",
      "--------END---------------\n",
      "---------START------------\n",
      "INDEX =  48693\n",
      "OLD U  0.0\n",
      "NEW U 0.0\n",
      "True\n",
      "True\n",
      "OLD V  0.0\n",
      "NEW V 0.0\n",
      "--------END---------------\n",
      "---------START------------\n",
      "INDEX =  4517875\n",
      "OLD U  0.208783\n",
      "NEW U 0.208789\n",
      "False\n",
      "True\n",
      "OLD V  0.102056\n",
      "NEW V 0.102056\n",
      "--------END---------------\n",
      "---------START------------\n",
      "INDEX =  3427745\n",
      "OLD U  0.0\n",
      "NEW U 0.0\n",
      "True\n",
      "True\n",
      "OLD V  0.0\n",
      "NEW V 0.0\n",
      "--------END---------------\n",
      "---------START------------\n",
      "INDEX =  4487627\n",
      "OLD U  0.0\n",
      "NEW U 0.0\n",
      "True\n",
      "True\n",
      "OLD V  0.0\n",
      "NEW V 0.0\n",
      "--------END---------------\n",
      "---------START------------\n",
      "INDEX =  6984063\n",
      "OLD U  0.0\n",
      "NEW U 0.0\n",
      "True\n",
      "True\n",
      "OLD V  0.0\n",
      "NEW V 0.0\n",
      "--------END---------------\n",
      "---------START------------\n",
      "INDEX =  1174591\n",
      "OLD U  0.0113923\n",
      "NEW U 0.0113923\n",
      "True\n",
      "True\n",
      "OLD V  0.00081701\n",
      "NEW V 0.00081701\n",
      "--------END---------------\n",
      "---------START------------\n",
      "INDEX =  4292804\n",
      "OLD U  -0.268736\n",
      "NEW U -0.268693\n",
      "False\n",
      "True\n",
      "OLD V  -0.17736\n",
      "NEW V -0.17736\n",
      "--------END---------------\n"
     ]
    }
   ],
   "source": [
    "i = 0 \n",
    "while i < 20: \n",
    "    j = np.random.randint(0, len(old_U))\n",
    "    print '---------START------------'\n",
    "    print 'INDEX = ', j \n",
    "    print 'OLD U ', old_U[j]\n",
    "    print 'NEW U', new_U[j]\n",
    "    print old_U[j] == new_U[j]\n",
    "    \n",
    "    print old_V[j] == new_V[j]\n",
    "    print 'OLD V ', old_V[j]\n",
    "    print 'NEW V', new_V[j]\n",
    "    print '--------END---------------'\n",
    " \n",
    "    \n",
    "    i+= 1 "
   ]
  }
 ],
 "metadata": {
  "anaconda-cloud": {},
  "kernelspec": {
   "display_name": "Python [conda root]",
   "language": "python",
   "name": "conda-root-py"
  },
  "language_info": {
   "codemirror_mode": {
    "name": "ipython",
    "version": 2
   },
   "file_extension": ".py",
   "mimetype": "text/x-python",
   "name": "python",
   "nbconvert_exporter": "python",
   "pygments_lexer": "ipython2",
   "version": "2.7.12"
  }
 },
 "nbformat": 4,
 "nbformat_minor": 1
}
