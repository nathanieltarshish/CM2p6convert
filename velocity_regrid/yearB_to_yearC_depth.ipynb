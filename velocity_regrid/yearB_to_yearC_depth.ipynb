{
 "cells": [
  {
   "cell_type": "code",
   "execution_count": 1,
   "metadata": {
    "collapsed": true
   },
   "outputs": [],
   "source": [
    "import netCDF4 as nc\n",
    "import numpy as np\n",
    "import numpy.ma as ma\n",
    "import sys\n",
    "import os\n",
    "import argparse\n",
    "import xarray as xr \n",
    "import matplotlib\n",
    "%matplotlib inline\n",
    "\n",
    "# parser = argparse.ArgumentParser(\n",
    "#         description='generate daily surface C grid velocites files from a years worth of B grid daily velocities ')\n",
    "\n",
    "# parser.add_argument('--C_grid_spec', metavar='C_grid_spec', default='/archive/net/CM2.6/regrid/CM2p6_half_len.nc',\n",
    "#                     help='the netcdf file containing the C grid half-face lengths')\n",
    "\n",
    "# parser.add_argument('--B_vel', type=str, metavar='B_vel', default='/archive/net/02020101_surf_vel.nc',\n",
    "#                     help='netcdf paths to u and v containing a years worth of B grid daily velocities')\n",
    "\n",
    "# parser.add_argument('--out', type=str, metavar='out', default='/archive/net/CM2p6_regrid/',\n",
    "#                     help='the output folder for C grid daily velocity fields')\n",
    "\n",
    "# parser.add_argument('--year', type=int, metavar='year', default=02020101,\n",
    "#                     help='the year to be regridded')\n",
    "\n",
    "# # parser.add_argument('--depth', type=int, metavar='depth', default=0,\n",
    "# #                     help='the depth at which to regrid')\n",
    "\n",
    "# args = parser.parse_args()\n",
    "\n",
    "\n",
    "def roll_values(ds, roll_dict):\n",
    "    true_coords = ds.coords \n",
    "    ds_rolled = ds.roll(**roll_dict)\n",
    "    for coord in true_coords:\n",
    "        ds_rolled.coords[coord] = ds.coords[coord]\n",
    "    return ds_rolled\n",
    "\n",
    "\n",
    "B_vel_u_path  = '/work/net/02020101.ocean_minibling_field_u.nc'  #args.B_vel\n",
    "B_vel_v_path  = '/work/net/02020101.ocean_minibling_field_v.nc'  #args.B_vel\n",
    "\n",
    "C_grid_spec = '/archive/net/CM2.6/regrid/CM2p6_half_len.nc' #args.C_grid_spec\n",
    "out = '/nbhome/net/CM2p6_regrid/' #args.out\n",
    "year = 02020101 #args.year\n",
    "# depth = 0\n",
    "\n",
    "# if not os.path.exists(out):\n",
    "#     os.makedirs(out)\n",
    "#     print \"Output Directory:\", out\n",
    "\n",
    "\n",
    "half_len_data = xr.open_dataset(C_grid_spec)\n",
    "lat_T = half_len_data.grid_y_T[0:2107]\n",
    "lon_T = half_len_data.grid_x_T[...]\n",
    "du_Eface_N = half_len_data.ds_21_22_T[0:2107, :].astype(np.float32)\n",
    "du_Eface_S = half_len_data.ds_20_21_T[0:2107, :].astype(np.float32)\n",
    "\n",
    "u_B = xr.open_dataset(B_vel_u_path, decode_times=False)\n",
    "lat_U = u_B.yu_ocean[0:2107]\n",
    "lon_U = u_B.xu_ocean[...]\n",
    "\n",
    "#construct the C grid U grid  \n",
    "xu_c = xr.zeros_like(lon_U)\n",
    "xu_c.values = np.roll(lon_U.values, 1) #xu_c[i] = lon_U[i-1] \n",
    "xu_c[0] = -280.0\n",
    "\n",
    "xu_c.coords['xu_ocean'].values = xu_c.values\n",
    "xu_c.attrs['long_name'] = 'ucell longitude on C grid'\n",
    "xu_c = xu_c.rename({'xu_ocean': 'xu_c'})\n",
    "\n",
    "yu_c = lat_T\n",
    "yu_c.coords['grid_y_T'].values = yu_c.values\n",
    "yu_c = yu_c.rename({'grid_y_T': 'yu_c'})\n",
    "yu_c.attrs['long_name'] = 'ucell latitude on C grid'\n",
    "\n",
    "#construct the C grid V grid  \n",
    "xv_c = lon_T\n",
    "xv_c.coords['grid_x_T'].values = xv_c.values\n",
    "xv_c = xv_c.rename({'grid_x_T': 'xv_c'})\n",
    "xv_c.attrs['long_name'] = 'vcell longitude on C grid'\n",
    "\n",
    "\n",
    "yv_c = xr.zeros_like(lat_U)\n",
    "yv_c.values = np.roll(lat_U.values, 1) #xu_c[i] = lon_U[i-1] \n",
    "\n",
    "yv_c.coords['yu_ocean'].values = yv_c.values\n",
    "yv_c = yv_c.rename({'yu_ocean': 'yv_c'})\n",
    "yv_c.attrs['long_name'] = 'vcell latitude on C grid'\n",
    "\n",
    "#adds in a row of C grid V points beneath the existing Tcell row \n",
    "yv_c[0] = lat_U[0] + lat_U[0] - lat_U[1] "
   ]
  },
  {
   "cell_type": "code",
   "execution_count": null,
   "metadata": {
    "collapsed": false
   },
   "outputs": [],
   "source": [
    "u_B_slab.st_ocean[[0, 5, 10, 15, 20, 22, 25]]"
   ]
  },
  {
   "cell_type": "code",
   "execution_count": null,
   "metadata": {
    "collapsed": false,
    "scrolled": false
   },
   "outputs": [],
   "source": [
    "slab_indices = {'yu_ocean': slice(0, 2107), 'st_ocean': [0, 5, 10, 15, 20, 22, 25]}\n",
    "u_B_slab = u_B.u.isel(**slab_indices).fillna(0.0).astype(np.float32)\n",
    "\n",
    "u_C_slab = xr.zeros_like(u_B_slab)\n",
    "u_C_slab = u_C_slab.rename({'xu_ocean': 'xu_c'})\n",
    "u_C_slab.coords['xu_c'] = xu_c\n",
    "u_C_slab = u_C_slab.rename({'yu_ocean': 'yu_c'})\n",
    "u_C_slab.coords['yu_c'] = yu_c\n",
    "u_C_slab.attrs['long_name'] = 'i-surface current on SW convention C grid'\n",
    "\n",
    "#set to type to np.float32 \n",
    "# u_C_slab.values = u_C_slab.values.astype(np.float32)\n",
    "# u_B_slab.values = u_B_slab.values.astype(np.float32)\n",
    "# \tfor i in range(LON_POINTS):\n",
    "# \t    for j in range(1,LAT_POINTS):\n",
    "# \t        u_C[i,j] = ( (du_Eface_N[i-1, j]*u_B[i-1, j] + du_Eface_S[i-1, j]*u_B[i-1, j-1]) \\\n",
    "# \t                    /(du_Eface_N[i, j-1] + du_Eface_S[i, j-1] ) )  "
   ]
  },
  {
   "cell_type": "code",
   "execution_count": null,
   "metadata": {
    "collapsed": true
   },
   "outputs": [],
   "source": [
    "roll_du_Eface_N = {'grid_x_T': 1, 'grid_y_T': 0}\n",
    "roll_du_Eface_S = {'grid_x_T': 1, 'grid_y_T': 0}\n",
    "roll_u_B_N = {'xu_ocean': 1, 'yu_ocean': 0}\n",
    "roll_u_B_S = {'xu_ocean': 1, 'yu_ocean': 1}\n",
    "\n",
    "du_Eface_N_roll = roll_values(du_Eface_N, roll_du_Eface_N).values\n",
    "du_Eface_S_roll = roll_values(du_Eface_S, roll_du_Eface_S).values \n",
    "numerat_1 = np.multiply(du_Eface_N_roll, roll_values(u_B_slab, roll_u_B_N).values) \n",
    "numerat_2 = np.multiply(du_Eface_S_roll, roll_values(u_B_slab, roll_u_B_S).values) \n",
    "denom = du_Eface_N_roll + du_Eface_S_roll\n",
    "\n",
    "u_C_slab.values = np.divide(numerat_1 + numerat_2, denom)"
   ]
  },
  {
   "cell_type": "code",
   "execution_count": null,
   "metadata": {
    "collapsed": true
   },
   "outputs": [],
   "source": [
    "v_B = xr.open_dataset(B_vel_v_path, decode_times=False)\n",
    "slab_indices = {'yu_ocean': slice(0, 2107)}\n",
    "v_B_slab = v_B.v.isel(**slab_indices).fillna(0.0).astype(np.float32)"
   ]
  },
  {
   "cell_type": "code",
   "execution_count": null,
   "metadata": {
    "collapsed": true
   },
   "outputs": [],
   "source": [
    "v_C_slab = xr.zeros_like(v_B_slab)\n",
    "v_C_slab = v_C_slab.rename({'xu_ocean': 'xv_c'})\n",
    "v_C_slab.coords['xv_c'] = xv_c\n",
    "v_C_slab = v_C_slab.rename({'yu_ocean': 'yv_c'})\n",
    "v_C_slab.coords['yv_c'] = yv_c\n",
    "v_C_slab.attrs['long_name'] = 'j-surface current on SW convention C grid'\n",
    "\n",
    "\n",
    "# \tfor i in range(LON_POINTS):\n",
    "# \t    for j in range(LAT_POINTS):\n",
    "# \t        v_C[i,j] = (v_B[i-1, j-1] + v_B[i, j-1])/2\n",
    "            \n",
    "roll_1 = {'xu_ocean': 1, 'yu_ocean': 1}\n",
    "roll_2 = {'xu_ocean': 0, 'yu_ocean': 1}\n",
    "\n",
    "v_C_slab.values = (roll_values(v_B_slab, roll_1).values + roll_values(v_B_slab, roll_2).values)/2"
   ]
  },
  {
   "cell_type": "code",
   "execution_count": null,
   "metadata": {
    "collapsed": true
   },
   "outputs": [],
   "source": [
    "vel_C = xr.merge([u_C_slab, v_C_slab])"
   ]
  },
  {
   "cell_type": "code",
   "execution_count": null,
   "metadata": {
    "collapsed": true
   },
   "outputs": [],
   "source": [
    "vel_C.to_netcdf(out+str(year)+'_depth_vel_C_gridded.nc')"
   ]
  },
  {
   "cell_type": "code",
   "execution_count": 2,
   "metadata": {
    "collapsed": false,
    "scrolled": true
   },
   "outputs": [
    {
     "name": "stderr",
     "output_type": "stream",
     "text": [
      "/nbhome/net/anaconda2/lib/python2.7/site-packages/xarray/conventions.py:389: RuntimeWarning: Unable to decode time axis into full numpy.datetime64 objects, continuing using dummy netCDF4.datetime objects instead, reason: dates out of range\n",
      "  result = decode_cf_datetime(example_value, units, calendar)\n",
      "/nbhome/net/anaconda2/lib/python2.7/site-packages/xarray/conventions.py:408: RuntimeWarning: Unable to decode time axis into full numpy.datetime64 objects, continuing using dummy netCDF4.datetime objects instead, reason: dates out of range\n",
      "  calendar=self.calendar)\n"
     ]
    }
   ],
   "source": [
    "ds = xr.open_dataset('/archive/net/CM2.6/regrid_annual/regrid_depth_/202_depth_vel_C_gridded.nc')"
   ]
  }
 ],
 "metadata": {
  "kernelspec": {
   "display_name": "Python [conda root]",
   "language": "python",
   "name": "conda-root-py"
  },
  "language_info": {
   "codemirror_mode": {
    "name": "ipython",
    "version": 2
   },
   "file_extension": ".py",
   "mimetype": "text/x-python",
   "name": "python",
   "nbconvert_exporter": "python",
   "pygments_lexer": "ipython2",
   "version": "2.7.12"
  }
 },
 "nbformat": 4,
 "nbformat_minor": 1
}
