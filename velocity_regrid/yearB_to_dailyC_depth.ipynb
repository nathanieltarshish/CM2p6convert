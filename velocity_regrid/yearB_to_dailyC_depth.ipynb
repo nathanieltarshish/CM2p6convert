{
 "cells": [
  {
   "cell_type": "code",
   "execution_count": 1,
   "metadata": {
    "collapsed": false,
    "scrolled": true
   },
   "outputs": [],
   "source": [
    "import netCDF4 as nc\n",
    "import numpy as np\n",
    "import numpy.ma as ma\n",
    "import sys\n",
    "import os\n",
    "import argparse\n",
    "import xarray as xr \n",
    "import matplotlib\n",
    "%matplotlib inline\n",
    "\n",
    "# parser = argparse.ArgumentParser(\n",
    "#         description='generate daily surface C grid velocites files from a years worth of B grid daily velocities ')\n",
    "\n",
    "# parser.add_argument('--C_grid_spec', metavar='C_grid_spec', default='/archive/net/CM2.6/regrid/CM2p6_half_len.nc',\n",
    "#                     help='the netcdf file containing the C grid half-face lengths')\n",
    "\n",
    "# parser.add_argument('--B_vel', type=str, metavar='B_vel', default='/archive/net/02020101_surf_vel.nc',\n",
    "#                     help='netcdf paths to u and v containing a years worth of B grid 5 day velocities')\n",
    "\n",
    "# parser.add_argument('--out', type=str, metavar='out', default='/archive/net/CM2p6_regrid/',\n",
    "#                     help='the output folder for C grid 5 day velocity fields')\n",
    "\n",
    "# parser.add_argument('--depth', type=int, metavar='depth', default=0,\n",
    "#                     help='the depth at which to regrid')\n",
    "\n",
    "args = parser.parse_args()"
   ]
  },
  {
   "cell_type": "code",
   "execution_count": 2,
   "metadata": {
    "collapsed": false
   },
   "outputs": [],
   "source": [
    "def roll_values(ds, roll_dict):\n",
    "    true_coords = ds.coords \n",
    "    ds_rolled = ds.roll(**roll_dict)\n",
    "    for coord in true_coords:\n",
    "        ds_rolled.coords[coord] = ds.coords[coord]\n",
    "    return ds_rolled"
   ]
  },
  {
   "cell_type": "code",
   "execution_count": 3,
   "metadata": {
    "collapsed": false
   },
   "outputs": [],
   "source": [
    "# B_vel = '/archive/net/02020101_surf_vel.nc'\n",
    "# C_grid_spec = '/archive/net/CM2.6/regrid/CM2p6_half_len.nc'\n",
    "# out = '/home/net/CM2p6_regrid/'\n",
    "# depth = 0\n",
    "\n",
    "B_vel = args.B_vel\n",
    "C_grid_spec = args.C_grid_spec\n",
    "out = args.out\n",
    "# depth = 0"
   ]
  },
  {
   "cell_type": "code",
   "execution_count": 4,
   "metadata": {
    "collapsed": false
   },
   "outputs": [],
   "source": [
    "half_len_data = xr.open_dataset(C_grid_spec)\n",
    "lat_T = half_len_data.grid_y_T[0:2107]\n",
    "lon_T = half_len_data.grid_x_T[...]\n",
    "du_Eface_N = half_len_data.ds_21_22_T[0:2107, :]\n",
    "du_Eface_S = half_len_data.ds_20_21_T[0:2107, :]"
   ]
  },
  {
   "cell_type": "code",
   "execution_count": 5,
   "metadata": {
    "collapsed": false
   },
   "outputs": [],
   "source": [
    "vel_B = xr.open_dataset(B_vel, decode_times=False)\n",
    "lat_U = vel_B.yu_ocean[0:2107]\n",
    "lon_U = vel_B.xu_ocean[...]"
   ]
  },
  {
   "cell_type": "code",
   "execution_count": 6,
   "metadata": {
    "collapsed": false
   },
   "outputs": [],
   "source": [
    "#construct the C grid U grid  \n",
    "xu_c = xr.zeros_like(lon_U)\n",
    "xu_c.values = np.roll(lon_U.values, 1) #xu_c[i] = lon_U[i-1] \n",
    "# xu_c[0] = -280.0\n",
    "\n",
    "xu_c.coords['xu_ocean'].values = xu_c.values\n",
    "xu_c.attrs['long_name'] = 'ucell longitude on C grid'\n",
    "xu_c = xu_c.rename({'xu_ocean': 'xu_c'})\n",
    "\n",
    "yu_c = lat_T\n",
    "yu_c.coords['grid_y_T'].values = yu_c.values\n",
    "yu_c = yu_c.rename({'grid_y_T': 'yu_c'})\n",
    "yu_c.attrs['long_name'] = 'ucell latitude on C grid'\n",
    "\n",
    "#construct the C grid V grid  \n",
    "xv_c = lon_T\n",
    "xv_c.coords['grid_x_T'].values = xv_c.values\n",
    "xv_c = xv_c.rename({'grid_x_T': 'xv_c'})\n",
    "xv_c.attrs['long_name'] = 'vcell longitude on C grid'\n",
    "\n",
    "\n",
    "yv_c = xr.zeros_like(lat_U)\n",
    "yv_c.values = np.roll(lat_U.values, 1) #xu_c[i] = lon_U[i-1] \n",
    "\n",
    "yv_c.coords['yu_ocean'].values = yv_c.values\n",
    "yv_c = yv_c.rename({'yu_ocean': 'yv_c'})\n",
    "yv_c.attrs['long_name'] = 'vcell latitude on C grid'\n",
    "\n",
    "#adds in a row of C grid V points beneath the existing Tcell row \n",
    "yv_c[0] = lat_U[0] + lat_U[0] - lat_U[1] "
   ]
  },
  {
   "cell_type": "code",
   "execution_count": 7,
   "metadata": {
    "collapsed": false
   },
   "outputs": [
    {
     "name": "stdout",
     "output_type": "stream",
     "text": [
      "CPU times: user 4.15 s, sys: 21.2 s, total: 25.3 s\n",
      "Wall time: 25.3 s\n"
     ]
    }
   ],
   "source": [
    "%%time\n",
    "slab_indices = {'time': slice(0,21), 'yu_ocean': slice(0, 2107)}\n",
    "u_B_slab = vel_B.usurf.isel(**slab_indices)\n",
    "u_B_slab = u_B_slab.fillna(0.0)\n",
    "\n",
    "u_C_slab = xr.zeros_like(u_B_slab)\n",
    "u_C_slab = u_C_slab.rename({'xu_ocean': 'xu_c'})\n",
    "u_C_slab.coords['xu_c'] = xu_c\n",
    "u_C_slab = u_C_slab.rename({'yu_ocean': 'yu_c'})\n",
    "u_C_slab.coords['yu_c'] = yu_c\n",
    "u_C_slab.attrs['long_name'] = 'i-surface current on SW convention C grid'\n",
    "\n",
    "\n",
    "# \tfor i in range(LON_POINTS):\n",
    "# \t    for j in range(1,LAT_POINTS):\n",
    "# \t        u_C[i,j] = ( (du_Eface_N[i-1, j]*u_B[i-1, j] + du_Eface_S[i-1, j]*u_B[i-1, j-1]) \\\n",
    "# \t                    /(du_Eface_N[i, j-1] + du_Eface_S[i, j-1] ) )  \n",
    "\n",
    "roll_du_Eface_N = {'grid_x_T': 1, 'grid_y_T': 0}\n",
    "roll_du_Eface_S = {'grid_x_T': 1, 'grid_y_T': 0}\n",
    "roll_u_B_N = {'xu_ocean': 1, 'yu_ocean': 0}\n",
    "roll_u_B_S = {'xu_ocean': 1, 'yu_ocean': 1}\n",
    "\n",
    "du_Eface_N_roll = roll_values(du_Eface_N, roll_du_Eface_N).values\n",
    "du_Eface_S_roll = roll_values(du_Eface_S, roll_du_Eface_S).values \n",
    "numerat_1 = np.multiply(du_Eface_N_roll, roll_values(u_B_slab, roll_u_B_N).values) \n",
    "numerat_2 = np.multiply(du_Eface_S_roll, roll_values(u_B_slab, roll_u_B_S).values) \n",
    "denom = du_Eface_N_roll + du_Eface_S_roll\n",
    "\n",
    "u_C_slab.values = np.divide(numerat_1 + numerat_2, denom)"
   ]
  },
  {
   "cell_type": "code",
   "execution_count": 8,
   "metadata": {
    "collapsed": false,
    "scrolled": true
   },
   "outputs": [
    {
     "name": "stdout",
     "output_type": "stream",
     "text": [
      "CPU times: user 3.03 s, sys: 13.5 s, total: 16.5 s\n",
      "Wall time: 16.6 s\n"
     ]
    }
   ],
   "source": [
    "%%time\n",
    "slab_indices = {'time': slice(0,21), 'yu_ocean': slice(0, 2107)}\n",
    "v_B_slab = vel_B.vsurf.isel(**slab_indices)\n",
    "v_B_slab = v_B_slab.fillna(0.0)\n",
    "\n",
    "\n",
    "v_C_slab = xr.zeros_like(v_B_slab)\n",
    "v_C_slab = v_C_slab.rename({'xu_ocean': 'xv_c'})\n",
    "v_C_slab.coords['xv_c'] = xv_c\n",
    "v_C_slab = v_C_slab.rename({'yu_ocean': 'yv_c'})\n",
    "v_C_slab.coords['yv_c'] = yv_c\n",
    "v_C_slab.attrs['long_name'] = 'j-surface current on SW convention C grid'\n",
    "\n",
    "\n",
    "# \tfor i in range(LON_POINTS):\n",
    "# \t    for j in range(LAT_POINTS):\n",
    "# \t        v_C[i,j] = (v_B[i-1, j-1] + v_B[i, j-1])/2\n",
    "            \n",
    "roll_1 = {'xu_ocean': 1, 'yu_ocean': 1}\n",
    "roll_2 = {'xu_ocean': 0, 'yu_ocean': 1}\n",
    "\n",
    "v_C_slab.values = (roll_values(v_B_slab, roll_1).values + roll_values(v_B_slab, roll_2).values)/2"
   ]
  },
  {
   "cell_type": "code",
   "execution_count": 16,
   "metadata": {
    "collapsed": true
   },
   "outputs": [],
   "source": [
    "vel_C = xr.merge([u_C_slab, v_C_slab])"
   ]
  },
  {
   "cell_type": "code",
   "execution_count": 17,
   "metadata": {
    "collapsed": false
   },
   "outputs": [
    {
     "data": {
      "text/plain": [
       "<xarray.Dataset>\n",
       "Dimensions:  (time: 21, xu_c: 3600, xv_c: 3600, yu_c: 2107, yv_c: 2107)\n",
       "Coordinates:\n",
       "  * time     (time) float64 7.342e+04 7.342e+04 7.342e+04 7.342e+04 ...\n",
       "  * xu_c     (xu_c) float64 80.0 -279.9 -279.8 -279.7 -279.6 -279.5 -279.4 ...\n",
       "  * yu_c     (yu_c) float64 -81.11 -81.07 -81.02 -80.98 -80.94 -80.9 -80.86 ...\n",
       "  * xv_c     (xv_c) float64 -280.0 -279.9 -279.8 -279.6 -279.5 -279.5 -279.4 ...\n",
       "  * yv_c     (yv_c) float64 -81.13 -81.09 -81.05 -81.0 -80.96 -80.92 -80.88 ...\n",
       "Data variables:\n",
       "    usurf    (time, yu_c, xu_c) float64 0.0 0.0 0.0 0.0 0.0 0.0 0.0 0.0 0.0 ...\n",
       "    vsurf    (time, yv_c, xv_c) float64 0.0 0.0 0.0 0.0 0.0 0.0 0.0 0.0 0.0 ..."
      ]
     },
     "execution_count": 17,
     "metadata": {},
     "output_type": "execute_result"
    }
   ],
   "source": [
    "vel_C"
   ]
  },
  {
   "cell_type": "code",
   "execution_count": 12,
   "metadata": {
    "collapsed": false,
    "scrolled": true
   },
   "outputs": [],
   "source": [
    "v_C_slab.to_netcdf('/home/net/test_v.nc')"
   ]
  },
  {
   "cell_type": "code",
   "execution_count": 14,
   "metadata": {
    "collapsed": false
   },
   "outputs": [
    {
     "name": "stdout",
     "output_type": "stream",
     "text": [
      "<xarray.DataArray 'u' ()>\n",
      "array(0.0592631995677948, dtype=float32)\n",
      "Coordinates:\n",
      "    time     float32 73435.5\n",
      "    yu_c     float32 -4.44554\n",
      "    xu_c     float32 -260.0\n",
      "Attributes:\n",
      "    units: m/s\n",
      "    long_name: zonal velocity on C grid\n",
      "<xarray.DataArray 'usurf' ()>\n",
      "array(0.05925509188479734)\n",
      "Coordinates:\n",
      "    time     float64 7.344e+04\n",
      "    xu_c     float64 -260.0\n",
      "    yu_c     float64 -4.446\n",
      "Attributes:\n",
      "    long_name: i-surface current on SW convention C grid\n",
      "    units: m/sec\n",
      "    valid_range: [-10.  10.]\n",
      "    cell_methods: time: mean\n",
      "    time_avg_info: average_T1,average_T2,average_DT\n",
      "    coordinates: geolon_c geolat_c\n"
     ]
    }
   ],
   "source": [
    "# verify_u = '/archive/net/CM2.6/regrid/regrid_2020_90_day/U0000000020.nc'\n",
    "# ds_u_verif = xr.open_dataset(verify_u, decode_times=False)\n",
    "# verify_patch_u = {'time': 0, 'xu_c': 200, 'yu_c': 1200}\n",
    "# print ds_u_verif.isel(**verify_patch_u).u\n",
    "# print u_C_slab.sel(time=ds_u_verif.time).isel(**verify_patch_u)"
   ]
  },
  {
   "cell_type": "code",
   "execution_count": 15,
   "metadata": {
    "collapsed": false
   },
   "outputs": [
    {
     "name": "stdout",
     "output_type": "stream",
     "text": [
      "<xarray.DataArray 'v' ()>\n",
      "array(0.18643414974212646, dtype=float32)\n",
      "Coordinates:\n",
      "    time     float32 73435.5\n",
      "    yv_c     float32 -4.49538\n",
      "    xv_c     float32 -159.95\n",
      "Attributes:\n",
      "    units: m/s\n",
      "    long_name: meridional velocity on C grid\n",
      "<xarray.DataArray 'vsurf' ()>\n",
      "array(0.18643414229154587)\n",
      "Coordinates:\n",
      "    time     float64 7.344e+04\n",
      "    xv_c     float64 -159.9\n",
      "    yv_c     float64 -4.495\n",
      "Attributes:\n",
      "    long_name: j-surface current on SW convention C grid\n",
      "    units: m/sec\n",
      "    valid_range: [-10.  10.]\n",
      "    cell_methods: time: mean\n",
      "    time_avg_info: average_T1,average_T2,average_DT\n",
      "    coordinates: geolon_c geolat_c\n"
     ]
    }
   ],
   "source": [
    "# verify_v = '/archive/net/CM2.6/regrid/regrid_2020_90_day/V0000000020.nc'\n",
    "# ds_v_verif = xr.open_dataset(verify_v, decode_times=False)\n",
    "# verify_patch_v = {'time': 0, 'xv_c': 1200, 'yv_c': 1200}\n",
    "# print ds_v_verif.isel(**verify_patch_v).v\n",
    "# print v_C_slab.sel(time=ds_u_verif.time).isel(**verify_patch_v)"
   ]
  }
 ],
 "metadata": {
  "anaconda-cloud": {},
  "kernelspec": {
   "display_name": "Python [conda root]",
   "language": "python",
   "name": "conda-root-py"
  },
  "language_info": {
   "codemirror_mode": {
    "name": "ipython",
    "version": 2
   },
   "file_extension": ".py",
   "mimetype": "text/x-python",
   "name": "python",
   "nbconvert_exporter": "python",
   "pygments_lexer": "ipython2",
   "version": "2.7.12"
  }
 },
 "nbformat": 4,
 "nbformat_minor": 1
}
